{
 "cells": [
  {
   "cell_type": "code",
   "execution_count": 8,
   "metadata": {},
   "outputs": [],
   "source": [
    "from pprint import pprint\n",
    "import spacy\n",
    "import en_core_web_sm\n",
    "nlp = en_core_web_sm.load()\n",
    "\n",
    "# doc = nlp(text)"
   ]
  },
  {
   "cell_type": "code",
   "execution_count": 9,
   "metadata": {},
   "outputs": [],
   "source": [
    "with open('passive_test.txt') as f:\n",
    "    passive_eg = f.readlines()\n",
    "\n",
    "with open('active_test.txt') as f:\n",
    "    active_eg = f.readlines()"
   ]
  },
  {
   "cell_type": "code",
   "execution_count": 10,
   "metadata": {},
   "outputs": [],
   "source": [
    "'''\n",
    "For each string of verbs, find the last verb, see if it is preceeded by a version of 'to be'\n",
    "and proceeded by a preposition.\n",
    "'''\n",
    "\n",
    "TO_BE_FORMS = {\n",
    "    'is',\n",
    "    'be',\n",
    "    'were',\n",
    "    'are'\n",
    "}\n",
    "\n",
    "PREP_DEP = {\n",
    "    'agent',\n",
    "    'prep'\n",
    "}"
   ]
  },
  {
   "cell_type": "code",
   "execution_count": 11,
   "metadata": {},
   "outputs": [],
   "source": [
    "def find_passive_verbs(doc):\n",
    "    for word in doc:\n",
    "#         print(word, word.pos_, word.tag_)\n",
    "        if not word.pos_ == 'VERB' or word.tag_ == 'VBD':\n",
    "            continue\n",
    "        for pre in doc[word.i-1:word.i]:\n",
    "#             print(pre.text)\n",
    "            if not pre.text in TO_BE_FORMS:\n",
    "                continue\n",
    "        for post in doc[word.i+1:word.i+2]:\n",
    "#             print(word)\n",
    "#             print(post.dep_)\n",
    "            if post.dep_ in PREP_DEP:\n",
    "                yield word"
   ]
  },
  {
   "cell_type": "code",
   "execution_count": 14,
   "metadata": {
    "scrolled": false
   },
   "outputs": [
    {
     "name": "stdout",
     "output_type": "stream",
     "text": [
      "Once a week, the house is cleaned by Tom.\n",
      "\n",
      "[cleaned] \n",
      "\n",
      "\n",
      "Right now, the letter is being written by Sarah.\n",
      "\n",
      "[written] \n",
      "\n",
      "\n",
      "The car was repaired by Sam.\n",
      "\n",
      "[repaired] \n",
      "\n",
      "\n",
      "That castle has been visited by many tourists.\n",
      "\n",
      "[visited] \n",
      "\n",
      "\n",
      "Recently, the work has been being done by John.\n",
      "\n",
      "[done] \n",
      "\n",
      "\n",
      "Many cars had been repaired by George before he received his mechanic's license.\n",
      "\n",
      "[repaired] \n",
      "\n",
      "\n",
      "The restaurant's fantastic dinners had been being prepared by Chef Jones for two years before he moved to Paris.\n",
      "\n",
      "[prepared] \n",
      "\n",
      "\n",
      "The work will be finished by 5:00 PM.\n",
      "\n",
      "[finished] \n",
      "\n",
      "\n",
      "A beautiful dinner is going to be made by Sally tonight.\n",
      "\n",
      "[made] \n",
      "\n",
      "\n",
      "At 8:00 PM tonight, the dishes will be being washed by John.\n",
      "\n",
      "[washed] \n",
      "\n",
      "\n",
      "At 8:00 PM tonight, the dishes are going to be being washed by John.\n",
      "\n",
      "[washed] \n",
      "\n",
      "\n",
      "The mural will have been being painted by the famous artist for over six months by the time it is finished.\n",
      "\n",
      "[painted] \n",
      "\n",
      "\n",
      "The bills used to be paid by Jerry.\n",
      "\n",
      "[paid] \n",
      "\n",
      "\n",
      "The pies would always be made by my mother.\n",
      "\n",
      "[made] \n",
      "\n",
      "\n",
      "I knew the work would be finished by 5:00 PM.\n",
      "\n",
      "[finished] \n",
      "\n",
      "\n",
      "I thought a beautiful dinner was going to be made by Sally tonight.\n",
      "[made] \n",
      "\n",
      "\n"
     ]
    }
   ],
   "source": [
    "for text in passive_eg:\n",
    "    doc = nlp(text)\n",
    "    print(doc)\n",
    "#     print([w.dep_ for w in doc])\n",
    "    passive_verbs = find_passive_verbs(doc)\n",
    "    print(list(passive_verbs), '\\n\\n')"
   ]
  },
  {
   "cell_type": "code",
   "execution_count": 16,
   "metadata": {},
   "outputs": [
    {
     "name": "stdout",
     "output_type": "stream",
     "text": [
      "[helped]\n"
     ]
    }
   ],
   "source": [
    "text = 'The customer was being helped by the salesman when the thief came into the store.'\n",
    "doc = nlp(text)\n",
    "passive_verbs = find_passive_verbs(doc)\n",
    "pprint(list(passive_verbs))"
   ]
  },
  {
   "cell_type": "code",
   "execution_count": null,
   "metadata": {},
   "outputs": [],
   "source": []
  }
 ],
 "metadata": {
  "kernelspec": {
   "display_name": "luscient-kg",
   "language": "python",
   "name": "luscient-kg"
  },
  "language_info": {
   "codemirror_mode": {
    "name": "ipython",
    "version": 3
   },
   "file_extension": ".py",
   "mimetype": "text/x-python",
   "name": "python",
   "nbconvert_exporter": "python",
   "pygments_lexer": "ipython3",
   "version": "3.6.5"
  }
 },
 "nbformat": 4,
 "nbformat_minor": 2
}
